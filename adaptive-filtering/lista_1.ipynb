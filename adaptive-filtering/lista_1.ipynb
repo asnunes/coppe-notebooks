{
 "cells": [
  {
   "cell_type": "markdown",
   "metadata": {},
   "source": [
    "## Lista 1"
   ]
  },
  {
   "cell_type": "code",
   "execution_count": 34,
   "metadata": {},
   "outputs": [],
   "source": [
    "import numpy as np\n",
    "import numpy.linalg as LA\n",
    "import sympy\n",
    "\n",
    "np.set_printoptions(precision=3)"
   ]
  },
  {
   "cell_type": "markdown",
   "metadata": {},
   "source": [
    "### Questão 15b"
   ]
  },
  {
   "cell_type": "code",
   "execution_count": 35,
   "metadata": {},
   "outputs": [
    {
     "name": "stdout",
     "output_type": "stream",
     "text": [
      "[[ 2.78 -2.22  0.   -0.  ]\n",
      " [-2.22  4.56 -2.22  0.  ]\n",
      " [ 0.   -2.22  4.56 -2.22]\n",
      " [-0.    0.   -2.22  2.78]]\n"
     ]
    }
   ],
   "source": [
    "R = np.array([[1, 0.8, 0.64, 0.512], [0.8, 1, 0.8, 0.64], [0.64, 0.8, 1, 0.8], [0.512, 0.64, 0.8, 1]])\n",
    "invR = LA.inv(R)\n",
    "print(np.round(invR, 2))"
   ]
  },
  {
   "cell_type": "code",
   "execution_count": 36,
   "metadata": {},
   "outputs": [],
   "source": [
    "p = 1/4 * np.array([[0.4096, 0.512, 0.64, 0.8]]).T"
   ]
  },
  {
   "cell_type": "code",
   "execution_count": 37,
   "metadata": {},
   "outputs": [
    {
     "name": "stdout",
     "output_type": "stream",
     "text": [
      "[[0. ]\n",
      " [0. ]\n",
      " [0. ]\n",
      " [0.2]]\n"
     ]
    }
   ],
   "source": [
    "wo = invR.dot(p)\n",
    "print(np.round(wo,3))"
   ]
  },
  {
   "cell_type": "markdown",
   "metadata": {},
   "source": [
    "### Questão 16"
   ]
  },
  {
   "cell_type": "markdown",
   "metadata": {},
   "source": [
    "Considerando os resultados da 15b"
   ]
  },
  {
   "cell_type": "code",
   "execution_count": 39,
   "metadata": {},
   "outputs": [
    {
     "data": {
      "text/plain": [
       "array([3.103, 0.559, 0.209, 0.129])"
      ]
     },
     "execution_count": 39,
     "metadata": {},
     "output_type": "execute_result"
    }
   ],
   "source": [
    "autovalores = LA.eigvals(R)\n",
    "autovalores"
   ]
  },
  {
   "cell_type": "code",
   "execution_count": 41,
   "metadata": {},
   "outputs": [
    {
     "data": {
      "text/plain": [
       "0.32226877215597804"
      ]
     },
     "execution_count": 41,
     "metadata": {},
     "output_type": "execute_result"
    }
   ],
   "source": [
    "mi_max = 1/3.103\n",
    "mi_max"
   ]
  },
  {
   "cell_type": "code",
   "execution_count": 44,
   "metadata": {},
   "outputs": [],
   "source": [
    "def gw(w):\n",
    "    return -2 * p + 2 * R * w"
   ]
  },
  {
   "cell_type": "markdown",
   "metadata": {},
   "source": [
    "Para cada iteração"
   ]
  },
  {
   "cell_type": "code",
   "execution_count": 47,
   "metadata": {},
   "outputs": [
    {
     "data": {
      "text/plain": [
       "matrix([[0.02 ],\n",
       "        [0.026],\n",
       "        [0.032],\n",
       "        [0.04 ]])"
      ]
     },
     "execution_count": 47,
     "metadata": {},
     "output_type": "execute_result"
    }
   ],
   "source": [
    "w0 = np.matrix('0;0;0;0')\n",
    "mu = 0.1\n",
    "\n",
    "gw0 = gw(w0)\n",
    "w1 = w0 - mu * gw0\n",
    "w1"
   ]
  },
  {
   "cell_type": "code",
   "execution_count": 48,
   "metadata": {},
   "outputs": [
    {
     "data": {
      "text/plain": [
       "matrix([[0.025],\n",
       "        [0.033],\n",
       "        [0.044],\n",
       "        [0.062]])"
      ]
     },
     "execution_count": 48,
     "metadata": {},
     "output_type": "execute_result"
    }
   ],
   "source": [
    "gw1 = gw(w1)\n",
    "w2 = w1 - mu * gw1\n",
    "w2"
   ]
  },
  {
   "cell_type": "code",
   "execution_count": 49,
   "metadata": {},
   "outputs": [
    {
     "data": {
      "text/plain": [
       "matrix([[0.023],\n",
       "        [0.033],\n",
       "        [0.049],\n",
       "        [0.075]])"
      ]
     },
     "execution_count": 49,
     "metadata": {},
     "output_type": "execute_result"
    }
   ],
   "source": [
    "gw2 = gw(w2)\n",
    "w3 = w2 - mu * gw2\n",
    "w3"
   ]
  },
  {
   "cell_type": "code",
   "execution_count": 51,
   "metadata": {},
   "outputs": [
    {
     "data": {
      "text/plain": [
       "matrix([[0.02 ],\n",
       "        [0.031],\n",
       "        [0.051],\n",
       "        [0.086]])"
      ]
     },
     "execution_count": 51,
     "metadata": {},
     "output_type": "execute_result"
    }
   ],
   "source": [
    "gw3 = gw(w3)\n",
    "w4 = w3 - mu * gw3\n",
    "w4"
   ]
  },
  {
   "cell_type": "code",
   "execution_count": 52,
   "metadata": {},
   "outputs": [
    {
     "data": {
      "text/plain": [
       "matrix([[0.016],\n",
       "        [0.028],\n",
       "        [0.052],\n",
       "        [0.095]])"
      ]
     },
     "execution_count": 52,
     "metadata": {},
     "output_type": "execute_result"
    }
   ],
   "source": [
    "gw4 = gw(w4)\n",
    "w5 = w4 - mu * gw4\n",
    "w5"
   ]
  },
  {
   "cell_type": "code",
   "execution_count": 53,
   "metadata": {},
   "outputs": [
    {
     "data": {
      "text/plain": [
       "matrix([[0.012],\n",
       "        [0.025],\n",
       "        [0.052],\n",
       "        [0.102]])"
      ]
     },
     "execution_count": 53,
     "metadata": {},
     "output_type": "execute_result"
    }
   ],
   "source": [
    "gw5 = gw(w5)\n",
    "w6 = w5 - mu * gw5\n",
    "w6"
   ]
  },
  {
   "cell_type": "code",
   "execution_count": 54,
   "metadata": {},
   "outputs": [
    {
     "data": {
      "text/plain": [
       "matrix([[0.009],\n",
       "        [0.022],\n",
       "        [0.052],\n",
       "        [0.109]])"
      ]
     },
     "execution_count": 54,
     "metadata": {},
     "output_type": "execute_result"
    }
   ],
   "source": [
    "gw6 = gw(w6)\n",
    "w7 = w6 - mu * gw6\n",
    "w7"
   ]
  },
  {
   "cell_type": "code",
   "execution_count": 56,
   "metadata": {},
   "outputs": [
    {
     "data": {
      "text/plain": [
       "matrix([[0.007],\n",
       "        [0.02 ],\n",
       "        [0.051],\n",
       "        [0.115]])"
      ]
     },
     "execution_count": 56,
     "metadata": {},
     "output_type": "execute_result"
    }
   ],
   "source": [
    "gw7 = gw(w7)\n",
    "w8 = w7 - mu * gw7\n",
    "w8"
   ]
  },
  {
   "cell_type": "code",
   "execution_count": 58,
   "metadata": {},
   "outputs": [
    {
     "data": {
      "text/plain": [
       "matrix([[0.007],\n",
       "        [0.02 ],\n",
       "        [0.051],\n",
       "        [0.115]])"
      ]
     },
     "execution_count": 58,
     "metadata": {},
     "output_type": "execute_result"
    }
   ],
   "source": [
    "gw8 = gw(w8)\n",
    "w9 = w7 - mu * gw8\n",
    "w9"
   ]
  },
  {
   "cell_type": "code",
   "execution_count": 59,
   "metadata": {},
   "outputs": [
    {
     "data": {
      "text/plain": [
       "matrix([[0.005],\n",
       "        [0.017],\n",
       "        [0.05 ],\n",
       "        [0.12 ]])"
      ]
     },
     "execution_count": 59,
     "metadata": {},
     "output_type": "execute_result"
    }
   ],
   "source": [
    "gw9 = gw(w9)\n",
    "w10 = w9 - mu * gw9\n",
    "w10"
   ]
  },
  {
   "cell_type": "markdown",
   "metadata": {},
   "source": [
    "### Questão 17"
   ]
  },
  {
   "cell_type": "markdown",
   "metadata": {},
   "source": [
    "Considerando os resultados de 15b"
   ]
  },
  {
   "cell_type": "code",
   "execution_count": 60,
   "metadata": {},
   "outputs": [
    {
     "data": {
      "text/plain": [
       "matrix([[ 1.388e-17],\n",
       "        [-1.388e-17],\n",
       "        [ 0.000e+00],\n",
       "        [ 4.000e-02]])"
      ]
     },
     "execution_count": 60,
     "metadata": {},
     "output_type": "execute_result"
    }
   ],
   "source": [
    "w1 = w0 - mu * invR * gw(w0)\n",
    "w1"
   ]
  },
  {
   "cell_type": "code",
   "execution_count": 61,
   "metadata": {},
   "outputs": [
    {
     "data": {
      "text/plain": [
       "matrix([[ 1.388e-17],\n",
       "        [-2.776e-17],\n",
       "        [ 0.000e+00],\n",
       "        [ 7.200e-02]])"
      ]
     },
     "execution_count": 61,
     "metadata": {},
     "output_type": "execute_result"
    }
   ],
   "source": [
    "w2 = w1 - mu * invR * gw(w1)\n",
    "w2"
   ]
  },
  {
   "cell_type": "code",
   "execution_count": 62,
   "metadata": {},
   "outputs": [
    {
     "data": {
      "text/plain": [
       "matrix([[ 2.082e-17],\n",
       "        [-1.388e-17],\n",
       "        [ 0.000e+00],\n",
       "        [ 9.760e-02]])"
      ]
     },
     "execution_count": 62,
     "metadata": {},
     "output_type": "execute_result"
    }
   ],
   "source": [
    "w3 = w2 - mu * invR * gw(w2)\n",
    "w3"
   ]
  },
  {
   "cell_type": "code",
   "execution_count": 63,
   "metadata": {},
   "outputs": [
    {
     "data": {
      "text/plain": [
       "matrix([[ 2.082e-17],\n",
       "        [-1.388e-17],\n",
       "        [ 0.000e+00],\n",
       "        [ 1.181e-01]])"
      ]
     },
     "execution_count": 63,
     "metadata": {},
     "output_type": "execute_result"
    }
   ],
   "source": [
    "w4 = w3 - mu * invR * gw(w3)\n",
    "w4"
   ]
  },
  {
   "cell_type": "code",
   "execution_count": 64,
   "metadata": {},
   "outputs": [
    {
     "data": {
      "text/plain": [
       "matrix([[ 2.082e-17],\n",
       "        [-2.082e-17],\n",
       "        [-6.939e-18],\n",
       "        [ 1.345e-01]])"
      ]
     },
     "execution_count": 64,
     "metadata": {},
     "output_type": "execute_result"
    }
   ],
   "source": [
    "w5 = w4 - mu * invR * gw(w4)\n",
    "w5"
   ]
  },
  {
   "cell_type": "code",
   "execution_count": 65,
   "metadata": {},
   "outputs": [
    {
     "data": {
      "text/plain": [
       "matrix([[ 2.776e-17],\n",
       "        [-2.776e-17],\n",
       "        [ 6.939e-18],\n",
       "        [ 1.476e-01]])"
      ]
     },
     "execution_count": 65,
     "metadata": {},
     "output_type": "execute_result"
    }
   ],
   "source": [
    "w6 = w5 - mu * invR * gw(w5)\n",
    "w6"
   ]
  },
  {
   "cell_type": "code",
   "execution_count": 66,
   "metadata": {},
   "outputs": [
    {
     "data": {
      "text/plain": [
       "matrix([[ 2.949e-17],\n",
       "        [-3.469e-17],\n",
       "        [ 1.388e-17],\n",
       "        [ 1.581e-01]])"
      ]
     },
     "execution_count": 66,
     "metadata": {},
     "output_type": "execute_result"
    }
   ],
   "source": [
    "w7 = w6 - mu * invR * gw(w6)\n",
    "w7"
   ]
  },
  {
   "cell_type": "code",
   "execution_count": 67,
   "metadata": {},
   "outputs": [
    {
     "data": {
      "text/plain": [
       "matrix([[ 1.908e-17],\n",
       "        [-1.735e-17],\n",
       "        [-6.939e-18],\n",
       "        [ 1.664e-01]])"
      ]
     },
     "execution_count": 67,
     "metadata": {},
     "output_type": "execute_result"
    }
   ],
   "source": [
    "w8 = w7 - mu * invR * gw(w7)\n",
    "w8"
   ]
  },
  {
   "cell_type": "code",
   "execution_count": 68,
   "metadata": {},
   "outputs": [
    {
     "data": {
      "text/plain": [
       "matrix([[ 2.082e-17],\n",
       "        [-1.735e-17],\n",
       "        [-1.041e-17],\n",
       "        [ 1.732e-01]])"
      ]
     },
     "execution_count": 68,
     "metadata": {},
     "output_type": "execute_result"
    }
   ],
   "source": [
    "w9 = w8 - mu * invR * gw(w8)\n",
    "w9"
   ]
  },
  {
   "cell_type": "code",
   "execution_count": 69,
   "metadata": {},
   "outputs": [
    {
     "data": {
      "text/plain": [
       "matrix([[ 2.689e-17],\n",
       "        [-4.163e-17],\n",
       "        [ 1.041e-17],\n",
       "        [ 1.785e-01]])"
      ]
     },
     "execution_count": 69,
     "metadata": {},
     "output_type": "execute_result"
    }
   ],
   "source": [
    "w10 = w9 - mu * invR * gw(w9)\n",
    "w10"
   ]
  },
  {
   "cell_type": "code",
   "execution_count": null,
   "metadata": {},
   "outputs": [],
   "source": []
  }
 ],
 "metadata": {
  "kernelspec": {
   "display_name": "Python 3",
   "language": "python",
   "name": "python3"
  },
  "language_info": {
   "codemirror_mode": {
    "name": "ipython",
    "version": 3
   },
   "file_extension": ".py",
   "mimetype": "text/x-python",
   "name": "python",
   "nbconvert_exporter": "python",
   "pygments_lexer": "ipython3",
   "version": "3.7.4"
  }
 },
 "nbformat": 4,
 "nbformat_minor": 2
}
