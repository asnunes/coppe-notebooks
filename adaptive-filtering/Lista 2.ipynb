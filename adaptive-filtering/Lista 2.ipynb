{
 "cells": [
  {
   "cell_type": "markdown",
   "metadata": {},
   "source": [
    "# Lista 2 - Alexandre Nunes\n",
    "COE718 - Proc. Adaptativo de Sinais"
   ]
  },
  {
   "cell_type": "code",
   "execution_count": 140,
   "metadata": {},
   "outputs": [],
   "source": [
    "# bibliotecas úteis\n",
    "import numpy as np\n",
    "import matplotlib.pyplot as plt"
   ]
  },
  {
   "cell_type": "markdown",
   "metadata": {},
   "source": [
    "### Implementação do Algoritmo LMS"
   ]
  },
  {
   "cell_type": "code",
   "execution_count": 145,
   "metadata": {},
   "outputs": [],
   "source": [
    "import numpy as np\n",
    "\n",
    "class LMS:\n",
    "    \"\"\"\n",
    "    Description\n",
    "    ---------\n",
    "    \n",
    "    Implements the Complex LMS algorithm for COMPLEX valued data.\n",
    "    (Algorithm 3.2 - book: Adaptive Filtering: Algorithms and Practical Implementation, Diniz)\n",
    "    \n",
    "    Author: Alexandre Henrique da Silva Nunes\n",
    "    Based on Matlab code by Markus Vinícius Santos Limas available at \n",
    "    https://www.mathworks.com/matlabcentral/fileexchange/3582-adaptive-filtering\n",
    "    \n",
    "    Methods\n",
    "    ---------\n",
    "    fit :\n",
    "        update filter params based on a desired signal and inputs.\n",
    "    \"\"\"\n",
    "    \n",
    "    def __init__(self, filter_order_num, initial_coefficients):\n",
    "        \"\"\"\n",
    "        Inputs\n",
    "        -------\n",
    "        \n",
    "        filter_order_num : int\n",
    "                    Order of the FIR filter\n",
    "        initial_coefficients : numpy array (collumn vector)\n",
    "                    initial filter coefficients\n",
    "                \n",
    "                    \n",
    "        Variables\n",
    "        --------\n",
    "        num_of_coefficients : int\n",
    "            FIR filter number of coefficients.\n",
    "        \n",
    "        errors_vector : numpy array\n",
    "            FIR error vectors. error_vector[k] represents the output erros at iteration k.\n",
    "        outputs_vector : numpy array (collumn vector)\n",
    "            Store the estimated output of each iteration. outputs_vector[k] represents the output erros at iteration k\n",
    "        coefficients_mtx : numpy array\n",
    "            Store the estimated coefficients for each iteration. (Coefficients at one iteration are COLUMN vector)\n",
    "        \"\"\"\n",
    "        \n",
    "        self.filter_order_num = filter_order_num\n",
    "        self.num_of_coefficients = self.filter_order_num + 1\n",
    "        \n",
    "        self.errors_vector = np.array([0])\n",
    "        self.outputs_vector = np.array([0])\n",
    "        self.coefficients_mtx = np.array(initial_coefficients)\n",
    "        \n",
    "    def fit(self, desired, x, step):\n",
    "        \"\"\"\n",
    "        Fit filter parameters to considering desired vector and input x. desired and x must have length K,\n",
    "        where K is the number of iterations\n",
    "        \n",
    "        Inputs\n",
    "        -------\n",
    "        \n",
    "        desired : numpy array (row vector)\n",
    "            desired signal\n",
    "        x : numpy array (row vector)\n",
    "            input signal to feed filter\n",
    "        step : Convergence (relaxation) factor.\n",
    "        \n",
    "        Outputs\n",
    "        -------\n",
    "        \n",
    "        python dic :\n",
    "            outputs : numpy array (collumn vector)\n",
    "                Store the estimated output of each iteration. outputs_vector[k] represents the output erros at iteration k\n",
    "            errors : numpy array (collumn vector)\n",
    "                FIR error vectors. error_vector[k] represents the output erros at iteration k.\n",
    "            coefficients_mtx : numpy array\n",
    "                Store the estimated coefficients for each iteration. (Coefficients at one iteration are COLUMN vector)      \n",
    "        \"\"\"\n",
    "        \n",
    "        k_max = self._dim(desired)\n",
    "        self._initialize_vars(k_max)\n",
    "        \n",
    "        for k in range(k_max):\n",
    "            x_k = LMS.tapped_x(x, self.num_of_coefficients, k)\n",
    "            w_k = self.coefficients_mtx[:, k]\n",
    "            y_k = np.dot(w_k, x_k)\n",
    "            err_k = desired[k] - y_k\n",
    "            \n",
    "            next_w_k = w_k + step * LMS._conj(err_k) * x_k\n",
    "            \n",
    "            self._update(err_k, y_k, next_w_k, k)\n",
    "            \n",
    "        return {\n",
    "            'outputs': self.outputs_vector,\n",
    "            'errors': self.errors_vector,\n",
    "            'coefficients': self.coefficients_mtx\n",
    "        }\n",
    "        \n",
    "    def _initialize_vars(self, k_max):\n",
    "        self.errors_vector = np.zeros((k_max, 1))\n",
    "        self.outputs_vector = np.zeros((k_max, 1))\n",
    "        \n",
    "        initial_coefficients = self.coefficients_mtx[:, [0]]\n",
    "        self.coefficients_mtx = np.append(initial_coefficients, np.zeros((self.num_of_coefficients, k_max)), axis=1)\n",
    "    \n",
    "    def _update(self, err, y, next_w, k):\n",
    "        self.errors_vector[k, 0] = err\n",
    "        self.outputs_vector[k, 0] = y\n",
    "        self.coefficients_mtx[:, k+1] = np.transpose(next_w)\n",
    "    \n",
    "    @staticmethod\n",
    "    def tapped_x(x, window, k):\n",
    "        prefixed_input = LMS._range_x(x, k-window+1, k+1)\n",
    "        return prefixed_input[::-1]\n",
    "    \n",
    "    @staticmethod\n",
    "    def _x(x, index):\n",
    "        if index < 0: return 0;\n",
    "        return x[index]\n",
    "    \n",
    "    # Improve source code regularity\n",
    "    @staticmethod\n",
    "    def _range_x(x, start, length):\n",
    "        sub_x = [LMS._x(x, start)]\n",
    "        for it in range(start+1, length):\n",
    "            sub_x = np.append(sub_x, LMS._x(x, it))\n",
    "        return sub_x\n",
    "    \n",
    "    @staticmethod\n",
    "    def _dim(vec):\n",
    "        return vec.shape[0]\n",
    "    \n",
    "    @staticmethod\n",
    "    def _conj(vec):\n",
    "        return np.conjugate(vec)"
   ]
  },
  {
   "cell_type": "markdown",
   "metadata": {},
   "source": [
    "## Questão 2"
   ]
  },
  {
   "cell_type": "markdown",
   "metadata": {},
   "source": [
    "### Item b"
   ]
  },
  {
   "cell_type": "code",
   "execution_count": 155,
   "metadata": {},
   "outputs": [],
   "source": [
    "kmax = 100\n",
    "\n",
    "# Ruído Branco\n",
    "n_mean = 0\n",
    "n_var = 0.3\n",
    "n = np.random.normal(n_mean, np.sqrt(n_var), size=kmax)\n",
    "\n",
    "# wo\n",
    "wo = np.array([[-0.85], [0]])\n",
    "\n",
    "# Entrada\n",
    "def set_x(x0, kmax):\n",
    "    x = np.array([x0])\n",
    "    for k in range(1, kmax):\n",
    "        x = np.append(x, [-0.85 * x[k-1] + n[k]])\n",
    "    return x\n",
    "\n",
    "x = set_x(0, kmax)\n",
    "\n",
    "# Valor desejado\n",
    "def set_d(wo, x, kmax):\n",
    "    d = np.array([0])\n",
    "    for k in range(1, kmax):\n",
    "        tapped_x = LMS.tapped_x(x, wo.shape[0], k)\n",
    "        d = np.append(d, np.dot(tapped_x, wo))\n",
    "    return d\n",
    "\n",
    "d = set_d(wo, x, kmax)\n",
    "\n",
    "# Filtro\n",
    "w0 = np.array([[0], [0]])\n",
    "adaptive_filter = LMS(1, w0)\n",
    "results = adaptive_filter.fit(d, x, 0.2)\n",
    "\n",
    "errors = results['errors']\n",
    "coefficients = results['coefficients']\n",
    "outputs = results['outputs']"
   ]
  },
  {
   "cell_type": "code",
   "execution_count": 149,
   "metadata": {},
   "outputs": [
    {
     "data": {
      "text/plain": [
       "[<matplotlib.lines.Line2D at 0x1119512d0>]"
      ]
     },
     "execution_count": 149,
     "metadata": {},
     "output_type": "execute_result"
    },
    {
     "data": {
      "image/png": "[encoded data removed]",
      "text/plain": [
       "<Figure size 432x288 with 1 Axes>"
      ]
     },
     "metadata": {
      "needs_background": "light"
     },
     "output_type": "display_data"
    }
   ],
   "source": [
    "plt.plot(np.square(errors))"
   ]
  },
  {
   "cell_type": "code",
   "execution_count": 152,
   "metadata": {},
   "outputs": [
    {
     "data": {
      "text/plain": [
       "array([-0.83153193,  0.01476119])"
      ]
     },
     "execution_count": 152,
     "metadata": {},
     "output_type": "execute_result"
    }
   ],
   "source": [
    "coefficients[:, -1]"
   ]
  },
  {
   "cell_type": "code",
   "execution_count": 160,
   "metadata": {},
   "outputs": [
    {
     "data": {
      "text/plain": [
       "[<matplotlib.lines.Line2D at 0x112e0cb10>,\n",
       " <matplotlib.lines.Line2D at 0x112beaa50>]"
      ]
     },
     "execution_count": 160,
     "metadata": {},
     "output_type": "execute_result"
    },
    {
     "data": {
      "image/png": "[encoded data removed]",
      "text/plain": [
       "<Figure size 432x288 with 1 Axes>"
      ]
     },
     "metadata": {
      "needs_background": "light"
     },
     "output_type": "display_data"
    }
   ],
   "source": [
    "base = range(0, 100)\n",
    "plt.plot(base, outputs, base, x)"
   ]
  },
  {
   "cell_type": "code",
   "execution_count": 87,
   "metadata": {},
   "outputs": [
    {
     "data": {
      "text/plain": [
       "range(9, -1, -1)"
      ]
     },
     "execution_count": 87,
     "metadata": {},
     "output_type": "execute_result"
    }
   ],
   "source": [
    "LMS.tapped_x(x, wo.shape[0], 1)"
   ]
  },
  {
   "cell_type": "code",
   "execution_count": 67,
   "metadata": {},
   "outputs": [
    {
     "data": {
      "text/plain": [
       "-0.5896773598463078"
      ]
     },
     "execution_count": 67,
     "metadata": {},
     "output_type": "execute_result"
    }
   ],
   "source": [
    "x[1]"
   ]
  },
  {
   "cell_type": "code",
   "execution_count": 70,
   "metadata": {},
   "outputs": [
    {
     "data": {
      "text/plain": [
       "-0.03822320175474114"
      ]
     },
     "execution_count": 70,
     "metadata": {},
     "output_type": "execute_result"
    }
   ],
   "source": [
    "x[2]"
   ]
  },
  {
   "cell_type": "code",
   "execution_count": null,
   "metadata": {},
   "outputs": [],
   "source": []
  }
 ],
 "metadata": {
  "kernelspec": {
   "display_name": "Python 3",
   "language": "python",
   "name": "python3"
  },
  "language_info": {
   "codemirror_mode": {
    "name": "ipython",
    "version": 3
   },
   "file_extension": ".py",
   "mimetype": "text/x-python",
   "name": "python",
   "nbconvert_exporter": "python",
   "pygments_lexer": "ipython3",
   "version": "3.7.4"
  }
 },
 "nbformat": 4,
 "nbformat_minor": 2
}
