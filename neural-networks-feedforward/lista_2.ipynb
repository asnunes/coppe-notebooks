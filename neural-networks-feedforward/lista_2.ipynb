{
 "cells": [
  {
   "cell_type": "markdown",
   "metadata": {},
   "source": [
    "# Lista 2"
   ]
  },
  {
   "cell_type": "markdown",
   "metadata": {},
   "source": [
    "### 1.1"
   ]
  },
  {
   "cell_type": "code",
   "execution_count": 8,
   "metadata": {
    "scrolled": true
   },
   "outputs": [],
   "source": [
    "from sympy import *\n",
    "import numpy as np"
   ]
  },
  {
   "cell_type": "code",
   "execution_count": 9,
   "metadata": {},
   "outputs": [],
   "source": [
    "# variables\n",
    "\n",
    "w1 = Symbol('w1')\n",
    "w2 = Symbol('w2')\n",
    "w3 = Symbol('w3')\n",
    "w4 = Symbol('w4')\n",
    "x1 = Symbol('x1')\n",
    "x2 = Symbol('x2')\n",
    "y1 = Symbol('y1')\n",
    "y2 = Symbol('y2')"
   ]
  },
  {
   "cell_type": "code",
   "execution_count": 10,
   "metadata": {},
   "outputs": [
    {
     "data": {
      "text/latex": [
       "$\\displaystyle w_{1} e^{- w_{2} x_{1}^{2}} + w_{3} \\log{\\left(x_{2} + 1 \\right)}$"
      ],
      "text/plain": [
       "w1*exp(-w2*x1**2) + w3*log(x2 + 1)"
      ]
     },
     "execution_count": 10,
     "metadata": {},
     "output_type": "execute_result"
    }
   ],
   "source": [
    "bary1 = w1 * exp(- w2 * x1 ** 2) + w3 * log(x2 + 1)\n",
    "bary1"
   ]
  },
  {
   "cell_type": "code",
   "execution_count": 11,
   "metadata": {},
   "outputs": [
    {
     "data": {
      "text/latex": [
       "$\\displaystyle w_{3} x_{1}^{2} + w_{4}$"
      ],
      "text/plain": [
       "w3*x1**2 + w4"
      ]
     },
     "execution_count": 11,
     "metadata": {},
     "output_type": "execute_result"
    }
   ],
   "source": [
    "bary2 = w3 * x1 ** 2 + w4\n",
    "bary2"
   ]
  },
  {
   "cell_type": "code",
   "execution_count": 13,
   "metadata": {},
   "outputs": [
    {
     "data": {
      "text/latex": [
       "$\\displaystyle 1$"
      ],
      "text/plain": [
       "1"
      ]
     },
     "metadata": {},
     "output_type": "display_data"
    },
    {
     "data": {
      "text/latex": [
       "$\\displaystyle 1$"
      ],
      "text/plain": [
       "1"
      ]
     },
     "metadata": {},
     "output_type": "display_data"
    },
    {
     "data": {
      "text/latex": [
       "$\\displaystyle e^{-1} + \\log{\\left(2 \\right)}$"
      ],
      "text/plain": [
       "exp(-1) + log(2)"
      ]
     },
     "metadata": {},
     "output_type": "display_data"
    },
    {
     "data": {
      "text/latex": [
       "$\\displaystyle 2$"
      ],
      "text/plain": [
       "2"
      ]
     },
     "metadata": {},
     "output_type": "display_data"
    },
    {
     "data": {
      "text/latex": [
       "$\\displaystyle \\log{\\left(2 \\right)} + 1$"
      ],
      "text/plain": [
       "log(2) + 1"
      ]
     },
     "metadata": {},
     "output_type": "display_data"
    },
    {
     "data": {
      "text/latex": [
       "$\\displaystyle 1$"
      ],
      "text/plain": [
       "1"
      ]
     },
     "metadata": {},
     "output_type": "display_data"
    },
    {
     "data": {
      "text/latex": [
       "$\\displaystyle e^{-1}$"
      ],
      "text/plain": [
       "exp(-1)"
      ]
     },
     "metadata": {},
     "output_type": "display_data"
    },
    {
     "data": {
      "text/latex": [
       "$\\displaystyle 2$"
      ],
      "text/plain": [
       "2"
      ]
     },
     "metadata": {},
     "output_type": "display_data"
    }
   ],
   "source": [
    "bary11 = bary1.subs([(w1, 1), (w2, 1), (w3, 1), (w4, 1), (x1, 0), (x2, 0)])\n",
    "bary21 = bary2.subs([(w1, 1), (w2, 1), (w3, 1), (w4, 1), (x1, 0), (x2, 0)])\n",
    "\n",
    "bary12 = bary1.subs([(w1, 1), (w2, 1), (w3, 1), (w4, 1), (x1, 1), (x2, 1)])\n",
    "bary22 = bary2.subs([(w1, 1), (w2, 1), (w3, 1), (w4, 1), (x1, 1), (x2, 1)])\n",
    "\n",
    "bary13 = bary1.subs([(w1, 1), (w2, 1), (w3, 1), (w4, 1), (x1, 0), (x2, 1)])\n",
    "bary23 = bary2.subs([(w1, 1), (w2, 1), (w3, 1), (w4, 1), (x1, 0), (x2, 1)])\n",
    "\n",
    "bary14 = bary1.subs([(w1, 1), (w2, 1), (w3, 1), (w4, 1), (x1, 1), (x2, 0)])\n",
    "bary24 = bary2.subs([(w1, 1), (w2, 1), (w3, 1), (w4, 1), (x1, 1), (x2, 0)])\n",
    "\n",
    "display(bary11, bary21, bary12, bary22, bary13, bary23, bary14, bary24)"
   ]
  },
  {
   "cell_type": "code",
   "execution_count": 14,
   "metadata": {},
   "outputs": [
    {
     "data": {
      "text/latex": [
       "$\\displaystyle 1$"
      ],
      "text/plain": [
       "1"
      ]
     },
     "metadata": {},
     "output_type": "display_data"
    },
    {
     "data": {
      "text/latex": [
       "$\\displaystyle 1$"
      ],
      "text/plain": [
       "1"
      ]
     },
     "metadata": {},
     "output_type": "display_data"
    },
    {
     "data": {
      "text/latex": [
       "$\\displaystyle 1.06102662173139$"
      ],
      "text/plain": [
       "1.06102662173139"
      ]
     },
     "metadata": {},
     "output_type": "display_data"
    },
    {
     "data": {
      "text/latex": [
       "$\\displaystyle 2$"
      ],
      "text/plain": [
       "2"
      ]
     },
     "metadata": {},
     "output_type": "display_data"
    },
    {
     "data": {
      "text/latex": [
       "$\\displaystyle 1.69314718055995$"
      ],
      "text/plain": [
       "1.69314718055995"
      ]
     },
     "metadata": {},
     "output_type": "display_data"
    },
    {
     "data": {
      "text/latex": [
       "$\\displaystyle 1$"
      ],
      "text/plain": [
       "1"
      ]
     },
     "metadata": {},
     "output_type": "display_data"
    },
    {
     "data": {
      "text/latex": [
       "$\\displaystyle 0.367879441171442$"
      ],
      "text/plain": [
       "0.367879441171442"
      ]
     },
     "metadata": {},
     "output_type": "display_data"
    },
    {
     "data": {
      "text/latex": [
       "$\\displaystyle 2$"
      ],
      "text/plain": [
       "2"
      ]
     },
     "metadata": {},
     "output_type": "display_data"
    }
   ],
   "source": [
    "display(bary11, bary21, N(bary12), bary22, N(bary13), bary23, N(bary14), bary24)"
   ]
  },
  {
   "cell_type": "code",
   "execution_count": 31,
   "metadata": {},
   "outputs": [
    {
     "data": {
      "text/latex": [
       "$\\displaystyle \\alpha$"
      ],
      "text/plain": [
       "alpha"
      ]
     },
     "metadata": {},
     "output_type": "display_data"
    },
    {
     "data": {
      "text/latex": [
       "$\\displaystyle y_1^{(p)}$"
      ],
      "text/plain": [
       "y_1^{(p)}"
      ]
     },
     "metadata": {},
     "output_type": "display_data"
    },
    {
     "data": {
      "text/latex": [
       "$\\displaystyle y_2^{(p)}$"
      ],
      "text/plain": [
       "y_2^{(p)}"
      ]
     },
     "metadata": {},
     "output_type": "display_data"
    },
    {
     "data": {
      "text/latex": [
       "$\\displaystyle bar{y_1^{(p)}}$"
      ],
      "text/plain": [
       "bar{y_1^{(p)}}"
      ]
     },
     "metadata": {},
     "output_type": "display_data"
    },
    {
     "data": {
      "text/latex": [
       "$\\displaystyle bar{y_2^{(p)}}$"
      ],
      "text/plain": [
       "bar{y_2^{(p)}}"
      ]
     },
     "metadata": {},
     "output_type": "display_data"
    },
    {
     "data": {
      "text/latex": [
       "$\\displaystyle - \\frac{4 \\alpha w_{1} x_{1}^{2} \\left(- bar{y_1^{(p)}} + y_1^{(p)}\\right) e^{- w_{2} x_{1}^{2}}}{\\left(y_1^{(p)} + 1\\right)^{2}}$"
      ],
      "text/plain": [
       "-4*alpha*w1*x1**2*(-bar{y_1^{(p)}} + y_1^{(p)})*exp(-w2*x1**2)/(y_1^{(p)} + 1)**2"
      ]
     },
     "metadata": {},
     "output_type": "display_data"
    },
    {
     "data": {
      "text/latex": [
       "$\\displaystyle \\alpha \\left(x_{1}^{2} \\left(- 14 bar{y_2^{(p)}} + 14 y_2^{(p)}\\right) + \\frac{\\left(- 4 bar{y_1^{(p)}} + 4 y_1^{(p)}\\right) \\log{\\left(x_{2} + 1 \\right)}}{\\left(y_1^{(p)} + 1\\right)^{2}}\\right)$"
      ],
      "text/plain": [
       "alpha*(x1**2*(-14*bar{y_2^{(p)}} + 14*y_2^{(p)}) + (-4*bar{y_1^{(p)}} + 4*y_1^{(p)})*log(x2 + 1)/(y_1^{(p)} + 1)**2)"
      ]
     },
     "metadata": {},
     "output_type": "display_data"
    }
   ],
   "source": [
    "a = Symbol('alpha')\n",
    "y1p = Symbol('y_1^{(p)}')\n",
    "y2p = Symbol('y_2^{(p)}')\n",
    "bary1p = Symbol('bar{y_1^{(p)}}')\n",
    "bary2p = Symbol('bar{y_2^{(p)}}')\n",
    "\n",
    "dw2p =  - a * 4 * (y1p - bary1p) * x1 ** 2 * w1 * exp(- w2 * x1 ** 2)/((y1p + 1) ** 2)\n",
    "dw3p =  + a * (4 * (y1p - bary1p) * log(x2 + 1)/((y1p + 1) ** 2) + 14 * (y2p - bary2p) * x1 ** 2)\n",
    "display(a, y1p, y2p, bary1p, bary2p, dw2p, dw3p)"
   ]
  },
  {
   "cell_type": "code",
   "execution_count": 32,
   "metadata": {},
   "outputs": [
    {
     "data": {
      "text/latex": [
       "$\\displaystyle 0.0642581300066051$"
      ],
      "text/plain": [
       "0.0642581300066051"
      ]
     },
     "execution_count": 32,
     "metadata": {},
     "output_type": "execute_result"
    }
   ],
   "source": [
    "dw21 = dw2p.subs([(a, 0.1), (y1p, 0), (bary1p, 1), (x1, 0), (w2, 1), (w1, 1)])\n",
    "dw22 = N(dw2p.subs([(a, 0.1), (y1p, .83), (bary1p, 1.06), (x1, 1), (w2, 1), (w1, 1)]))\n",
    "dw23 = N(dw2p.subs([(a, 0.1), (y1p, .83), (bary1p, 1.69), (x1, 0), (w2, 1), (w1, 1)]))\n",
    "dw24 = N(dw2p.subs([(a, 0.1), (y1p, 0), (bary1p, 0.368), (x1, 1), (w2, 1), (w1, 1)]))\n",
    "dw2 = dw21 + dw22 + dw23 + dw24\n",
    "dw2"
   ]
  },
  {
   "cell_type": "code",
   "execution_count": 33,
   "metadata": {},
   "outputs": [
    {
     "data": {
      "text/latex": [
       "$\\displaystyle 0.469757779950391$"
      ],
      "text/plain": [
       "0.469757779950391"
      ]
     },
     "execution_count": 33,
     "metadata": {},
     "output_type": "execute_result"
    }
   ],
   "source": [
    "dw31 = N(dw3p.subs([(a, 0.1), (y1p, 0), (bary1p, 1), (x1, 0), (w2, 1), (w1, 1), (y2p, 1), (bary2p, 1), (x2, 0)]))\n",
    "dw32 = N(dw3p.subs([(a, 0.1), (y1p, .83), (bary1p, 1.06), (x1, 1), (w2, 1), (w1, 1), (y2p, 2.2), (bary2p, 2), (x2, 1)]))\n",
    "dw33 = N(dw3p.subs([(a, 0.1), (y1p, .83), (bary1p, 1.69), (x1, 0), (w2, 1), (w1, 1), (y2p, 1), (bary2p, 1), (x2, 1)]))\n",
    "dw34 = N(dw3p.subs([(a, 0.1), (y1p, 0), (bary1p, 0.368), (x1, 1), (w2, 1), (w1, 1), (y2p, 2.2), (bary2p, 2), (x2, 0)]))\n",
    "dw3 = dw31 + dw32 + dw33 + dw34\n",
    "dw3"
   ]
  },
  {
   "cell_type": "code",
   "execution_count": null,
   "metadata": {},
   "outputs": [],
   "source": []
  }
 ],
 "metadata": {
  "kernelspec": {
   "display_name": "Python 3",
   "language": "python",
   "name": "python3"
  },
  "language_info": {
   "codemirror_mode": {
    "name": "ipython",
    "version": 3
   },
   "file_extension": ".py",
   "mimetype": "text/x-python",
   "name": "python",
   "nbconvert_exporter": "python",
   "pygments_lexer": "ipython3",
   "version": "3.7.3"
  }
 },
 "nbformat": 4,
 "nbformat_minor": 2
}
