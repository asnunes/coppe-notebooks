{
 "cells": [
  {
   "cell_type": "code",
   "execution_count": 2,
   "metadata": {},
   "outputs": [
    {
     "name": "stdout",
     "output_type": "stream",
     "text": [
      "Collecting sympy\n",
      "\u001b[?25l  Downloading https://files.pythonhosted.org/packages/21/21/f4105795ca7f35c541d82c5b06be684dd2f5cb4f508fb487cd7aea4de776/sympy-1.4-py2.py3-none-any.whl (5.3MB)\n",
      "\u001b[K     |████████████████████████████████| 5.3MB 1.5MB/s eta 0:00:01\n",
      "\u001b[?25hCollecting mpmath>=0.19 (from sympy)\n",
      "\u001b[?25l  Downloading https://files.pythonhosted.org/packages/ca/63/3384ebb3b51af9610086b23ea976e6d27d6d97bf140a76a365bd77a3eb32/mpmath-1.1.0.tar.gz (512kB)\n",
      "\u001b[K     |████████████████████████████████| 522kB 48.6MB/s eta 0:00:01\n",
      "\u001b[?25hBuilding wheels for collected packages: mpmath\n",
      "  Building wheel for mpmath (setup.py) ... \u001b[?25ldone\n",
      "\u001b[?25h  Stored in directory: /home/asnunes/.cache/pip/wheels/63/9d/8e/37c3f6506ed3f152733a699e92d8e0c9f5e5f01dea262f80ad\n",
      "Successfully built mpmath\n",
      "Installing collected packages: mpmath, sympy\n",
      "Successfully installed mpmath-1.1.0 sympy-1.4\n"
     ]
    }
   ],
   "source": [
    "!pip install sympy"
   ]
  },
  {
   "cell_type": "code",
   "execution_count": 3,
   "metadata": {},
   "outputs": [],
   "source": [
    "from sympy import *"
   ]
  },
  {
   "cell_type": "markdown",
   "metadata": {},
   "source": [
    "### Questão 1"
   ]
  },
  {
   "cell_type": "code",
   "execution_count": 61,
   "metadata": {},
   "outputs": [],
   "source": [
    "w1 = Symbol('w1')\n",
    "w2 = Symbol('w2')\n",
    "\n",
    "f = (w1 ** 3) * (w2 ** 2) - 2 * (w1 ** 3) * (w2) - 3 * w1 * (w2 ** 2) + 6 * w1 * w2"
   ]
  },
  {
   "cell_type": "markdown",
   "metadata": {},
   "source": [
    "#### 1.1"
   ]
  },
  {
   "cell_type": "code",
   "execution_count": 12,
   "metadata": {},
   "outputs": [
    {
     "data": {
      "text/latex": [
       "$\\displaystyle \\left[\\begin{matrix}3 w_{1}^{2} w_{2}^{2} - 6 w_{1}^{2} w_{2} - 3 w_{2}^{2} + 6 w_{2}\\\\2 w_{1}^{3} w_{2} - 2 w_{1}^{3} - 6 w_{1} w_{2} + 6 w_{1}\\end{matrix}\\right]$"
      ],
      "text/plain": [
       "Matrix([\n",
       "[3*w1**2*w2**2 - 6*w1**2*w2 - 3*w2**2 + 6*w2],\n",
       "[      2*w1**3*w2 - 2*w1**3 - 6*w1*w2 + 6*w1]])"
      ]
     },
     "execution_count": 12,
     "metadata": {},
     "output_type": "execute_result"
    }
   ],
   "source": [
    "df_dw1 = diff(f, w1)\n",
    "df_dw2 = diff(f, w2)\n",
    "gw = Matrix([df_dw1, df_dw2])\n",
    "gw"
   ]
  },
  {
   "cell_type": "code",
   "execution_count": 14,
   "metadata": {},
   "outputs": [
    {
     "data": {
      "text/latex": [
       "$\\displaystyle \\left[\\begin{matrix}6 w_{1} w_{2}^{2} - 12 w_{1} w_{2} & 6 w_{1}^{2} w_{2} - 6 w_{1}^{2} - 6 w_{2} + 6\\\\6 w_{1}^{2} w_{2} - 6 w_{1}^{2} - 6 w_{2} + 6 & 2 w_{1}^{3} - 6 w_{1}\\end{matrix}\\right]$"
      ],
      "text/plain": [
       "Matrix([\n",
       "[          6*w1*w2**2 - 12*w1*w2, 6*w1**2*w2 - 6*w1**2 - 6*w2 + 6],\n",
       "[6*w1**2*w2 - 6*w1**2 - 6*w2 + 6,                  2*w1**3 - 6*w1]])"
      ]
     },
     "execution_count": 14,
     "metadata": {},
     "output_type": "execute_result"
    }
   ],
   "source": [
    "df_dw12 = diff(df_dw1, w1)\n",
    "df_dw1dw2 = diff(df_dw1, w2)\n",
    "df_dw22 = diff(df_dw2, w2)\n",
    "\n",
    "H = Matrix([[df_dw12, df_dw1dw2], [df_dw1dw2, df_dw22]])\n",
    "H"
   ]
  },
  {
   "cell_type": "markdown",
   "metadata": {},
   "source": [
    "#### 1.2"
   ]
  },
  {
   "cell_type": "code",
   "execution_count": 17,
   "metadata": {},
   "outputs": [
    {
     "data": {
      "text/latex": [
       "$\\displaystyle 0$"
      ],
      "text/plain": [
       "0"
      ]
     },
     "execution_count": 17,
     "metadata": {},
     "output_type": "execute_result"
    }
   ],
   "source": [
    "#(0.0)\n",
    "\n",
    "f0 = f.subs([(w1, 0), (w2, 0)])\n",
    "f0"
   ]
  },
  {
   "cell_type": "code",
   "execution_count": 20,
   "metadata": {},
   "outputs": [
    {
     "data": {
      "text/latex": [
       "$\\displaystyle \\left[\\begin{matrix}0\\\\0\\end{matrix}\\right]$"
      ],
      "text/plain": [
       "Matrix([\n",
       "[0],\n",
       "[0]])"
      ]
     },
     "execution_count": 20,
     "metadata": {},
     "output_type": "execute_result"
    }
   ],
   "source": [
    "gw0 = gw.subs([(w1, 0), (w2, 0)])\n",
    "gw0"
   ]
  },
  {
   "cell_type": "code",
   "execution_count": 21,
   "metadata": {},
   "outputs": [
    {
     "data": {
      "text/latex": [
       "$\\displaystyle \\left[\\begin{matrix}0 & 6\\\\6 & 0\\end{matrix}\\right]$"
      ],
      "text/plain": [
       "Matrix([\n",
       "[0, 6],\n",
       "[6, 0]])"
      ]
     },
     "execution_count": 21,
     "metadata": {},
     "output_type": "execute_result"
    }
   ],
   "source": [
    "H0 = H.subs([(w1, 0), (w2, 0)])\n",
    "H0"
   ]
  },
  {
   "cell_type": "markdown",
   "metadata": {},
   "source": [
    "gw0 = 0 => Ponto crítico\n",
    "\n",
    "Análisando H..."
   ]
  },
  {
   "cell_type": "code",
   "execution_count": 22,
   "metadata": {},
   "outputs": [
    {
     "data": {
      "text/latex": [
       "$\\displaystyle \\left[\\begin{matrix}12 a_{1} a_{2}\\end{matrix}\\right]$"
      ],
      "text/plain": [
       "Matrix([[12*a1*a2]])"
      ]
     },
     "execution_count": 22,
     "metadata": {},
     "output_type": "execute_result"
    }
   ],
   "source": [
    "a1 = Symbol('a1')\n",
    "a2 = Symbol('a2')\n",
    "\n",
    "w_test = Matrix([a1, a2])\n",
    "\n",
    "H0_test = Transpose(w_test) * H0 * w_test\n",
    "H0_test"
   ]
  },
  {
   "cell_type": "markdown",
   "metadata": {},
   "source": [
    "H0 Não definida $\\therefore$ Ponto de sela"
   ]
  },
  {
   "cell_type": "code",
   "execution_count": 28,
   "metadata": {},
   "outputs": [
    {
     "data": {
      "text/latex": [
       "$\\displaystyle 2$"
      ],
      "text/plain": [
       "2"
      ]
     },
     "metadata": {},
     "output_type": "display_data"
    },
    {
     "data": {
      "text/latex": [
       "$\\displaystyle \\left[\\begin{matrix}0\\\\0\\end{matrix}\\right]$"
      ],
      "text/plain": [
       "Matrix([\n",
       "[0],\n",
       "[0]])"
      ]
     },
     "metadata": {},
     "output_type": "display_data"
    },
    {
     "data": {
      "text/latex": [
       "$\\displaystyle \\left[\\begin{matrix}-6 & 0\\\\0 & -4\\end{matrix}\\right]$"
      ],
      "text/plain": [
       "Matrix([\n",
       "[-6,  0],\n",
       "[ 0, -4]])"
      ]
     },
     "metadata": {},
     "output_type": "display_data"
    }
   ],
   "source": [
    "# (1,1)\n",
    "from IPython.display import display\n",
    "\n",
    "f1 = f.subs([(w1, 1), (w2, 1)])\n",
    "gw1 = gw.subs([(w1, 1), (w2, 1)])\n",
    "H1 = H.subs([(w1, 1), (w2, 1)])\n",
    "\n",
    "display(f1)\n",
    "display(gw1)\n",
    "display(H1)"
   ]
  },
  {
   "cell_type": "markdown",
   "metadata": {},
   "source": [
    "Análise de H1"
   ]
  },
  {
   "cell_type": "code",
   "execution_count": 30,
   "metadata": {},
   "outputs": [
    {
     "data": {
      "text/latex": [
       "$\\displaystyle \\left[\\begin{matrix}- 6 a_{1}^{2} - 4 a_{2}^{2}\\end{matrix}\\right]$"
      ],
      "text/plain": [
       "Matrix([[-6*a1**2 - 4*a2**2]])"
      ]
     },
     "execution_count": 30,
     "metadata": {},
     "output_type": "execute_result"
    }
   ],
   "source": [
    "H1_test = Transpose(w_test) * H1 * w_test\n",
    "H1_test"
   ]
  },
  {
   "cell_type": "markdown",
   "metadata": {},
   "source": [
    "H1 definida negativa $\\therefore$ ponto de máximo"
   ]
  },
  {
   "cell_type": "code",
   "execution_count": 32,
   "metadata": {},
   "outputs": [
    {
     "data": {
      "text/latex": [
       "$\\displaystyle -2$"
      ],
      "text/plain": [
       "-2"
      ]
     },
     "metadata": {},
     "output_type": "display_data"
    },
    {
     "data": {
      "text/latex": [
       "$\\displaystyle \\left[\\begin{matrix}0\\\\0\\end{matrix}\\right]$"
      ],
      "text/plain": [
       "Matrix([\n",
       "[0],\n",
       "[0]])"
      ]
     },
     "metadata": {},
     "output_type": "display_data"
    },
    {
     "data": {
      "text/latex": [
       "$\\displaystyle \\left[\\begin{matrix}6 & 0\\\\0 & 4\\end{matrix}\\right]$"
      ],
      "text/plain": [
       "Matrix([\n",
       "[6, 0],\n",
       "[0, 4]])"
      ]
     },
     "metadata": {},
     "output_type": "display_data"
    }
   ],
   "source": [
    "# (-1, 1)\n",
    "\n",
    "f2 = f.subs([(w1, -1), (w2, 1)])\n",
    "gw2 = gw.subs([(w1, -1), (w2, 1)])\n",
    "H2 = H.subs([(w1, -1), (w2, 1)])\n",
    "\n",
    "display(f2)\n",
    "display(gw2)\n",
    "display(H2)"
   ]
  },
  {
   "cell_type": "markdown",
   "metadata": {},
   "source": [
    "Análise de H2"
   ]
  },
  {
   "cell_type": "code",
   "execution_count": 34,
   "metadata": {},
   "outputs": [
    {
     "data": {
      "text/latex": [
       "$\\displaystyle \\left[\\begin{matrix}6 a_{1}^{2} + 4 a_{2}^{2}\\end{matrix}\\right]$"
      ],
      "text/plain": [
       "Matrix([[6*a1**2 + 4*a2**2]])"
      ]
     },
     "execution_count": 34,
     "metadata": {},
     "output_type": "execute_result"
    }
   ],
   "source": [
    "H2_test = Transpose(w_test) * H2 * w_test\n",
    "H2_test"
   ]
  },
  {
   "cell_type": "markdown",
   "metadata": {},
   "source": [
    "H2 def positiva $\\therefore$ ponto de mínimo"
   ]
  },
  {
   "cell_type": "code",
   "execution_count": 35,
   "metadata": {},
   "outputs": [
    {
     "data": {
      "text/latex": [
       "$\\displaystyle -6$"
      ],
      "text/plain": [
       "-6"
      ]
     },
     "metadata": {},
     "output_type": "display_data"
    },
    {
     "data": {
      "text/latex": [
       "$\\displaystyle \\left[\\begin{matrix}0\\\\8\\end{matrix}\\right]$"
      ],
      "text/plain": [
       "Matrix([\n",
       "[0],\n",
       "[8]])"
      ]
     },
     "metadata": {},
     "output_type": "display_data"
    },
    {
     "data": {
      "text/latex": [
       "$\\displaystyle \\left[\\begin{matrix}18 & 0\\\\0 & -4\\end{matrix}\\right]$"
      ],
      "text/plain": [
       "Matrix([\n",
       "[18,  0],\n",
       "[ 0, -4]])"
      ]
     },
     "metadata": {},
     "output_type": "display_data"
    }
   ],
   "source": [
    "# (1, -1)\n",
    "\n",
    "f3 = f.subs([(w1, 1), (w2, -1)])\n",
    "gw3 = gw.subs([(w1, 1), (w2, -1)])\n",
    "H3 = H.subs([(w1, 1), (w2, -1)])\n",
    "\n",
    "display(f3)\n",
    "display(gw3)\n",
    "display(H3)"
   ]
  },
  {
   "cell_type": "markdown",
   "metadata": {},
   "source": [
    "$gw3 \\neq 0 \\therefore$ ponto ordinário"
   ]
  },
  {
   "cell_type": "markdown",
   "metadata": {},
   "source": [
    "#### 1.3"
   ]
  },
  {
   "cell_type": "code",
   "execution_count": 36,
   "metadata": {},
   "outputs": [
    {
     "data": {
      "text/latex": [
       "$\\displaystyle -6$"
      ],
      "text/plain": [
       "-6"
      ]
     },
     "execution_count": 36,
     "metadata": {},
     "output_type": "execute_result"
    }
   ],
   "source": [
    "# F(1, -1) = f3\n",
    "f3"
   ]
  },
  {
   "cell_type": "markdown",
   "metadata": {},
   "source": [
    "curva de nível não varia de valor, portanto é descrita por\n",
    "$f = f3$\n",
    "\n"
   ]
  },
  {
   "cell_type": "markdown",
   "metadata": {},
   "source": [
    "#### 1.4"
   ]
  },
  {
   "cell_type": "markdown",
   "metadata": {},
   "source": [
    "O gradiente indica o ponto de máximo crescimento. Portanto, como na direção da curva de nível, não há variação, o gradiente é perpendicular a reta tangente que tem o formato $tg = a + b*t$, em que $a = \\begin{bmatrix}1  & -1\\end{bmatrix}$ e $b \\bot gw3$."
   ]
  },
  {
   "cell_type": "code",
   "execution_count": 40,
   "metadata": {},
   "outputs": [
    {
     "data": {
      "text/latex": [
       "$\\displaystyle \\left[\\begin{matrix}8 w_{2}\\end{matrix}\\right]$"
      ],
      "text/plain": [
       "Matrix([[8*w2]])"
      ]
     },
     "execution_count": 40,
     "metadata": {},
     "output_type": "execute_result"
    }
   ],
   "source": [
    "w1_test = Symbol('w1')\n",
    "w2_test = Symbol('w2')\n",
    "\n",
    "b = Matrix([w1_test, w2_test])\n",
    "vec_prod = Transpose(b) * gw3\n",
    "vec_prod"
   ]
  },
  {
   "cell_type": "markdown",
   "metadata": {},
   "source": [
    "vec_prod $= 0 \\therefore w_2 = 0$ e $w_1$ livre "
   ]
  },
  {
   "cell_type": "markdown",
   "metadata": {},
   "source": [
    "$tg = \\begin{bmatrix}1 + w_1 \\\\ -1\\end{bmatrix}$ "
   ]
  },
  {
   "cell_type": "markdown",
   "metadata": {},
   "source": [
    "#### 1.5"
   ]
  },
  {
   "cell_type": "markdown",
   "metadata": {},
   "source": [
    "Newton Raphson\n",
    "\n",
    "$\\vec{w_{ext}} = \\vec{w_0} + H^{-1}(\\vec{w_0}) \\cdot \\vec{g_w}(\\vec{w_0})$"
   ]
  },
  {
   "cell_type": "code",
   "execution_count": 44,
   "metadata": {},
   "outputs": [
    {
     "data": {
      "text/latex": [
       "$\\displaystyle \\left[\\begin{matrix}\\frac{1}{18} & 0\\\\0 & - \\frac{1}{4}\\end{matrix}\\right]$"
      ],
      "text/plain": [
       "Matrix([\n",
       "[1/18,    0],\n",
       "[   0, -1/4]])"
      ]
     },
     "execution_count": 44,
     "metadata": {},
     "output_type": "execute_result"
    }
   ],
   "source": [
    "H3_inv = H3.inv()\n",
    "H3_inv"
   ]
  },
  {
   "cell_type": "code",
   "execution_count": 46,
   "metadata": {},
   "outputs": [
    {
     "data": {
      "text/latex": [
       "$\\displaystyle \\left[\\begin{matrix}1\\\\1\\end{matrix}\\right]$"
      ],
      "text/plain": [
       "Matrix([\n",
       "[1],\n",
       "[1]])"
      ]
     },
     "execution_count": 46,
     "metadata": {},
     "output_type": "execute_result"
    }
   ],
   "source": [
    "p3 = Matrix([1, -1])\n",
    "w_ext = p3 - H3_inv  * gw3\n",
    "w_ext"
   ]
  },
  {
   "cell_type": "markdown",
   "metadata": {},
   "source": [
    "por 1.5, p3 w_ext é ponto de máximo"
   ]
  },
  {
   "cell_type": "markdown",
   "metadata": {},
   "source": [
    "#### 1.6"
   ]
  },
  {
   "cell_type": "code",
   "execution_count": 49,
   "metadata": {},
   "outputs": [
    {
     "data": {
      "text/latex": [
       "$\\displaystyle \\left[\\begin{matrix}0\\\\0\\end{matrix}\\right]$"
      ],
      "text/plain": [
       "Matrix([\n",
       "[0],\n",
       "[0]])"
      ]
     },
     "execution_count": 49,
     "metadata": {},
     "output_type": "execute_result"
    }
   ],
   "source": [
    "p0 = Matrix([0,0])\n",
    "w0_ext = p0 + Symbol('H0_inv') * gw0\n",
    "w0_ext"
   ]
  },
  {
   "cell_type": "markdown",
   "metadata": {},
   "source": [
    "Portanto, já está no extremo é Newton Raphon não evolui"
   ]
  },
  {
   "cell_type": "markdown",
   "metadata": {},
   "source": [
    "#### 1.7"
   ]
  },
  {
   "cell_type": "markdown",
   "metadata": {},
   "source": [
    "passo ótimo dado por $\\alpha^*$. Para determiná-lo, calculamos um passo estimando $\\alpha = 0.0125$"
   ]
  },
  {
   "cell_type": "code",
   "execution_count": 68,
   "metadata": {},
   "outputs": [],
   "source": [
    "alpha1 = .0125"
   ]
  },
  {
   "cell_type": "markdown",
   "metadata": {},
   "source": [
    "$\\vec{w_1} = \\vec{w_0} - \\alpha_1 \\cdot \\vec{g_w}(\\vec{w_0})$"
   ]
  },
  {
   "cell_type": "code",
   "execution_count": 69,
   "metadata": {},
   "outputs": [
    {
     "data": {
      "text/latex": [
       "$\\displaystyle \\left[\\begin{matrix}1\\\\-1.1\\end{matrix}\\right]$"
      ],
      "text/plain": [
       "Matrix([\n",
       "[   1],\n",
       "[-1.1]])"
      ]
     },
     "execution_count": 69,
     "metadata": {},
     "output_type": "execute_result"
    }
   ],
   "source": [
    "w01 = p3 - alpha1 * gw3\n",
    "w01"
   ]
  },
  {
   "cell_type": "code",
   "execution_count": 62,
   "metadata": {},
   "outputs": [],
   "source": [
    "fw1 = f.subs([(w1, 1), (w2, -1.1)])"
   ]
  },
  {
   "cell_type": "markdown",
   "metadata": {},
   "source": [
    "Então o passo ótimo é dado por:\n",
    "\n",
    "$\\alpha^* = \\dfrac{\\alpha_1^2 \\cdot |\\vec{g_w}(\\vec{w_0})|^2}{2(F_1 - F_0 + \\alpha_1 \\cdot |\\vec{g_w}(\\vec{w_0})|^2)}$"
   ]
  },
  {
   "cell_type": "code",
   "execution_count": 74,
   "metadata": {},
   "outputs": [
    {
     "data": {
      "text/latex": [
       "$\\displaystyle -0.249999999999997$"
      ],
      "text/plain": [
       "-0.249999999999997"
      ]
     },
     "execution_count": 74,
     "metadata": {},
     "output_type": "execute_result"
    }
   ],
   "source": [
    "alpha_ot = ((alpha1 ** 2) * (8 ** 2))/(2 * (fw1 - f3 + alpha1 * (8 ** 2)))\n",
    "alpha_ot"
   ]
  },
  {
   "cell_type": "code",
   "execution_count": 76,
   "metadata": {},
   "outputs": [
    {
     "data": {
      "text/latex": [
       "$\\displaystyle \\left[\\begin{matrix}1\\\\0.999999999999976\\end{matrix}\\right]$"
      ],
      "text/plain": [
       "Matrix([\n",
       "[                1],\n",
       "[0.999999999999976]])"
      ]
     },
     "execution_count": 76,
     "metadata": {},
     "output_type": "execute_result"
    }
   ],
   "source": [
    "w_ot = p3 - alpha_ot * gw3\n",
    "w_ot"
   ]
  },
  {
   "cell_type": "markdown",
   "metadata": {},
   "source": [
    "Como $\\alpha^*$ é negativo, levou para um ponto de máximo"
   ]
  },
  {
   "cell_type": "markdown",
   "metadata": {},
   "source": [
    "### Questão 3"
   ]
  },
  {
   "cell_type": "code",
   "execution_count": 78,
   "metadata": {},
   "outputs": [
    {
     "data": {
      "text/latex": [
       "$\\displaystyle \\left[\\begin{matrix}8 w_{1}^{4} w_{2}^{2} + 20 w_{1}^{2} w_{2}^{2} \\left(w_{1}^{2} + w_{2}^{2} - 1\\right) + 2 w_{2}^{2} \\left(w_{1}^{2} + w_{2}^{2} - 1\\right)^{2} & 8 w_{1}^{3} w_{2}^{3} + 8 w_{1}^{3} w_{2} \\left(w_{1}^{2} + w_{2}^{2} - 1\\right) + 8 w_{1} w_{2}^{3} \\left(w_{1}^{2} + w_{2}^{2} - 1\\right) + 4 w_{1} w_{2} \\left(w_{1}^{2} + w_{2}^{2} - 1\\right)^{2}\\\\8 w_{1}^{3} w_{2}^{3} + 8 w_{1}^{3} w_{2} \\left(w_{1}^{2} + w_{2}^{2} - 1\\right) + 8 w_{1} w_{2}^{3} \\left(w_{1}^{2} + w_{2}^{2} - 1\\right) + 4 w_{1} w_{2} \\left(w_{1}^{2} + w_{2}^{2} - 1\\right)^{2} & 8 w_{1}^{2} w_{2}^{4} + 20 w_{1}^{2} w_{2}^{2} \\left(w_{1}^{2} + w_{2}^{2} - 1\\right) + 2 w_{1}^{2} \\left(w_{1}^{2} + w_{2}^{2} - 1\\right)^{2}\\end{matrix}\\right]$"
      ],
      "text/plain": [
       "Matrix([\n",
       "[                             8*w1**4*w2**2 + 20*w1**2*w2**2*(w1**2 + w2**2 - 1) + 2*w2**2*(w1**2 + w2**2 - 1)**2, 8*w1**3*w2**3 + 8*w1**3*w2*(w1**2 + w2**2 - 1) + 8*w1*w2**3*(w1**2 + w2**2 - 1) + 4*w1*w2*(w1**2 + w2**2 - 1)**2],\n",
       "[8*w1**3*w2**3 + 8*w1**3*w2*(w1**2 + w2**2 - 1) + 8*w1*w2**3*(w1**2 + w2**2 - 1) + 4*w1*w2*(w1**2 + w2**2 - 1)**2,                              8*w1**2*w2**4 + 20*w1**2*w2**2*(w1**2 + w2**2 - 1) + 2*w1**2*(w1**2 + w2**2 - 1)**2]])"
      ]
     },
     "execution_count": 78,
     "metadata": {},
     "output_type": "execute_result"
    }
   ],
   "source": [
    "# Cálculo da hesiana regular\n",
    "\n",
    "f = ((w1 ** 2 + w2 ** 2 - 1) * w1 * w2) ** 2\n",
    "df_dw1 = diff(f,w1)\n",
    "df_dw2 = diff(f,w2)\n",
    "\n",
    "df_dw12 = diff(df_dw1, w1)\n",
    "df_dw1dw2 = diff(df_dw1, w2)\n",
    "df_dw22 = diff(df_dw2, w2)\n",
    "\n",
    "H = Matrix([[df_dw12, df_dw1dw2], [df_dw1dw2, df_dw22]])\n",
    "H"
   ]
  },
  {
   "cell_type": "code",
   "execution_count": 80,
   "metadata": {},
   "outputs": [
    {
     "data": {
      "text/latex": [
       "$\\displaystyle \\left[\\begin{matrix}0.845543999999999 & 0.865143999999999\\\\0.865143999999999 & 0.845543999999999\\end{matrix}\\right]$"
      ],
      "text/plain": [
       "Matrix([\n",
       "[0.845543999999999, 0.865143999999999],\n",
       "[0.865143999999999, 0.845543999999999]])"
      ]
     },
     "execution_count": 80,
     "metadata": {},
     "output_type": "execute_result"
    }
   ],
   "source": [
    "wa = Matrix([.7, .7])\n",
    "Ha = H.subs([(w1, .7), (w2, 0.7)])\n",
    "Ha"
   ]
  },
  {
   "cell_type": "code",
   "execution_count": 81,
   "metadata": {},
   "outputs": [
    {
     "data": {
      "text/latex": [
       "$\\displaystyle 2 w_{1}^{2} w_{2} + w_{2} \\left(w_{1}^{2} + w_{2}^{2} - 1\\right)$"
      ],
      "text/plain": [
       "2*w1**2*w2 + w2*(w1**2 + w2**2 - 1)"
      ]
     },
     "metadata": {},
     "output_type": "display_data"
    },
    {
     "data": {
      "text/latex": [
       "$\\displaystyle 2 w_{1} w_{2}^{2} + w_{1} \\left(w_{1}^{2} + w_{2}^{2} - 1\\right)$"
      ],
      "text/plain": [
       "2*w1*w2**2 + w1*(w1**2 + w2**2 - 1)"
      ]
     },
     "metadata": {},
     "output_type": "display_data"
    }
   ],
   "source": [
    "# Cálculo da aproximação\n",
    "\n",
    "eps = ((w1 ** 2 + w2 ** 2 - 1) * w1 * w2)\n",
    "de_dw1 = diff(eps, w1)\n",
    "de_dw2 = diff(eps, w2)\n",
    "\n",
    "display(de_dw1)\n",
    "display(de_dw2)"
   ]
  },
  {
   "cell_type": "code",
   "execution_count": 84,
   "metadata": {},
   "outputs": [
    {
     "data": {
      "text/latex": [
       "$\\displaystyle 0.672$"
      ],
      "text/plain": [
       "0.672000000000000"
      ]
     },
     "metadata": {},
     "output_type": "display_data"
    },
    {
     "data": {
      "text/latex": [
       "$\\displaystyle 0.672$"
      ],
      "text/plain": [
       "0.672000000000000"
      ]
     },
     "metadata": {},
     "output_type": "display_data"
    }
   ],
   "source": [
    "# Para wa = [.7 .7]^T\n",
    "\n",
    "de_dw1a = de_dw1.subs([(w1, 0.7), (w2, 0.7)])\n",
    "de_dw2a = de_dw2.subs([(w1, 0.7), (w2, 0.7)])\n",
    "\n",
    "display(de_dw1a, de_dw2a)"
   ]
  },
  {
   "cell_type": "code",
   "execution_count": 85,
   "metadata": {},
   "outputs": [
    {
     "data": {
      "text/latex": [
       "$\\displaystyle 0.903167999999999$"
      ],
      "text/plain": [
       "0.903167999999999"
      ]
     },
     "execution_count": 85,
     "metadata": {},
     "output_type": "execute_result"
    }
   ],
   "source": [
    "h_ija = 2 * de_dw1a * de_dw2a\n",
    "h_ija"
   ]
  },
  {
   "cell_type": "code",
   "execution_count": 93,
   "metadata": {},
   "outputs": [
    {
     "data": {
      "text/latex": [
       "$\\displaystyle 0.0576240000000001$"
      ],
      "text/plain": [
       "0.0576240000000001"
      ]
     },
     "metadata": {},
     "output_type": "display_data"
    },
    {
     "data": {
      "text/latex": [
       "$\\displaystyle 0.0380240000000001$"
      ],
      "text/plain": [
       "0.0380240000000001"
      ]
     },
     "metadata": {},
     "output_type": "display_data"
    }
   ],
   "source": [
    "import numpy as np\n",
    "\n",
    "e11 = np.abs(Ha[0, 0] - h_ija)\n",
    "e21 = np.abs(Ha[1, 0] - h_ija)\n",
    "display(e11, e21)"
   ]
  },
  {
   "cell_type": "code",
   "execution_count": 91,
   "metadata": {},
   "outputs": [
    {
     "data": {
      "text/latex": [
       "$\\displaystyle 0.0576240000000001$"
      ],
      "text/plain": [
       "0.0576240000000001"
      ]
     },
     "execution_count": 91,
     "metadata": {},
     "output_type": "execute_result"
    }
   ],
   "source": [
    "e11"
   ]
  },
  {
   "cell_type": "code",
   "execution_count": 94,
   "metadata": {},
   "outputs": [
    {
     "data": {
      "text/latex": [
       "$\\displaystyle 18$"
      ],
      "text/plain": [
       "18"
      ]
     },
     "execution_count": 94,
     "metadata": {},
     "output_type": "execute_result"
    }
   ],
   "source": [
    "# Para wb = [1 1]^T\n",
    "\n",
    "de_dw1b = de_dw1.subs([(w1, 1), (w2, 1)])\n",
    "de_dw2b = de_dw2.subs([(w1, 1), (w2, 1)])\n",
    "\n",
    "h_ijb = 2 * de_dw1b * de_dw2b\n",
    "h_ijb"
   ]
  },
  {
   "cell_type": "code",
   "execution_count": 97,
   "metadata": {},
   "outputs": [
    {
     "data": {
      "text/latex": [
       "$\\displaystyle \\left[\\begin{matrix}30 & 28\\\\28 & 30\\end{matrix}\\right]$"
      ],
      "text/plain": [
       "Matrix([\n",
       "[30, 28],\n",
       "[28, 30]])"
      ]
     },
     "execution_count": 97,
     "metadata": {},
     "output_type": "execute_result"
    }
   ],
   "source": [
    "Hb = H.subs([(w1, 1), (w2, 1)])\n",
    "Hb"
   ]
  },
  {
   "cell_type": "code",
   "execution_count": 98,
   "metadata": {},
   "outputs": [
    {
     "data": {
      "text/latex": [
       "$\\displaystyle 12$"
      ],
      "text/plain": [
       "12"
      ]
     },
     "metadata": {},
     "output_type": "display_data"
    },
    {
     "data": {
      "text/latex": [
       "$\\displaystyle 10$"
      ],
      "text/plain": [
       "10"
      ]
     },
     "metadata": {},
     "output_type": "display_data"
    }
   ],
   "source": [
    "e11 = np.abs(Hb[0, 0] - h_ijb)\n",
    "e21 = np.abs(Hb[1, 0] - h_ijb)\n",
    "display(e11, e21)"
   ]
  },
  {
   "cell_type": "code",
   "execution_count": null,
   "metadata": {},
   "outputs": [],
   "source": []
  }
 ],
 "metadata": {
  "kernelspec": {
   "display_name": "Python 3",
   "language": "python",
   "name": "python3"
  },
  "language_info": {
   "codemirror_mode": {
    "name": "ipython",
    "version": 3
   },
   "file_extension": ".py",
   "mimetype": "text/x-python",
   "name": "python",
   "nbconvert_exporter": "python",
   "pygments_lexer": "ipython3",
   "version": "3.7.3"
  }
 },
 "nbformat": 4,
 "nbformat_minor": 2
}
